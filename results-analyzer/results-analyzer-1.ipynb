{
 "cells": [
  {
   "cell_type": "code",
   "execution_count": null,
   "metadata": {},
   "outputs": [],
   "source": [
    "%matplotlib inline\n",
    "import pandas as pd\n",
    "import numpy as np\n",
    "import matplotlib\n",
    "import matplotlib.pylab as plt\n",
    "import matplotlib.dates as mdates\n",
    "import matplotlib.cm as cm\n",
    "import seaborn as sns\n",
    "import json\n",
    "from io import StringIO\n",
    "import importlib"
   ]
  },
  {
   "cell_type": "code",
   "execution_count": null,
   "metadata": {},
   "outputs": [],
   "source": [
    "import molten_data_common_lib\n",
    "importlib.reload(molten_data_common_lib)\n",
    "from molten_data_common_lib import glob_file_list , load_json_from_file, merge_dicts, plot_groups, get_varying_column_names"
   ]
  },
  {
   "cell_type": "code",
   "execution_count": null,
   "metadata": {},
   "outputs": [],
   "source": [
    "src_files = []\n",
    "#src_files += ['../driver-pravega/logs/workload-01c9e1d5-ef0e-4f73-9c1e-d6f7e3023aef-Pravega-2019-09-20-01-23-42.json']\n",
    "#src_files += ['../driver-pravega/logs/workload-07098146-76a8-40ad-9377-c4a7964a96b4-Pravega-2019-09-19-22-52-16.json']\n",
    "src_files += ['../driver-pravega/logs/workload-*.json']\n",
    "filenames = glob_file_list(src_files)\n",
    "print('Loading records from %d files...' % len(filenames))\n",
    "raw_results = [load_json_from_file(filename) for filename in filenames]"
   ]
  },
  {
   "cell_type": "code",
   "execution_count": null,
   "metadata": {},
   "outputs": [],
   "source": [
    "raw_df = pd.DataFrame(raw_results)\n",
    "raw_df.head()"
   ]
  },
  {
   "cell_type": "code",
   "execution_count": null,
   "metadata": {},
   "outputs": [],
   "source": [
    "def clean_result(result):\n",
    "    r = result.copy()\n",
    "    workload = json.load(StringIO(r['workload']))\n",
    "    r = merge_dicts(r, workload)\n",
    "    r = merge_dicts(r, r['workload'])\n",
    "    del r['workload']\n",
    "    r['driverName'] = r['driver']['name']\n",
    "    del r['driver']\n",
    "    for k in list(r.keys()):\n",
    "        if 'Quantiles' in k:\n",
    "            r[k] = pd.Series(data=[float(q) for q in r[k].keys()], index=list(r[k].values()))\n",
    "        elif isinstance(r[k], list):\n",
    "            r[k] = pd.Series(r[k])\n",
    "            r['%sMean' % k] = r[k].mean()\n",
    "    return pd.Series(r)\n",
    "# r = clean_result(raw_results[0])\n",
    "# pd.DataFrame(r)"
   ]
  },
  {
   "cell_type": "code",
   "execution_count": null,
   "metadata": {},
   "outputs": [],
   "source": [
    "clean_df = raw_df.apply(clean_result, axis=1)\n",
    "clean_df = clean_df.sort_values(['utc_begin'])\n",
    "# clean_df.tail()"
   ]
  },
  {
   "cell_type": "code",
   "execution_count": null,
   "metadata": {},
   "outputs": [],
   "source": [
    "clean_df.columns"
   ]
  },
  {
   "cell_type": "code",
   "execution_count": null,
   "metadata": {},
   "outputs": [],
   "source": [
    "clean_df.tail(20)[['utc_begin','publishRateMean','aggregatedPublishLatencyAvg','aggregatedPublishLatency99pct']]"
   ]
  },
  {
   "cell_type": "code",
   "execution_count": null,
   "metadata": {},
   "outputs": [],
   "source": [
    "df = clean_df[\n",
    "    (clean_df.messageSize==10000) & \n",
    "    (clean_df.testDurationMinutes==5) & \n",
    "    (clean_df.messageSize==10000) & \n",
    "    (clean_df.partitionsPerTopic==1) &\n",
    "    (clean_df.producerRate==10)\n",
    "]\n",
    "#df = df[['utc_begin','producerRate','partitionsPerTopic','messageSize','publishRateMean','aggregatedPublishLatency99pct']]\n",
    "#get_varying_column_names(df)"
   ]
  },
  {
   "cell_type": "code",
   "execution_count": null,
   "metadata": {},
   "outputs": [],
   "source": [
    "plot_groups(\n",
    "    clean_df[(clean_df.messageSize==10000) & (clean_df.testDurationMinutes==5)], \n",
    "    x_col='publishRateMean', \n",
    "    y_col='aggregatedPublishLatency99pct',\n",
    "    group_by_columns=['partitionsPerTopic', 'messageSize'],\n",
    "    semilogx=True,\n",
    "    ylim=[0,100],\n",
    ");"
   ]
  },
  {
   "cell_type": "code",
   "execution_count": null,
   "metadata": {},
   "outputs": [],
   "source": []
  }
 ],
 "metadata": {
  "kernelspec": {
   "display_name": "Python 3",
   "language": "python",
   "name": "python3"
  },
  "language_info": {
   "codemirror_mode": {
    "name": "ipython",
    "version": 3
   },
   "file_extension": ".py",
   "mimetype": "text/x-python",
   "name": "python",
   "nbconvert_exporter": "python",
   "pygments_lexer": "ipython3",
   "version": "3.7.3"
  }
 },
 "nbformat": 4,
 "nbformat_minor": 4
}
